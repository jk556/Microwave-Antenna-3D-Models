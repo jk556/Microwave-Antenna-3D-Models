{
 "cells": [
  {
   "cell_type": "code",
   "execution_count": 74,
   "metadata": {},
   "outputs": [],
   "source": [
    "import hfss\n",
    "from math import sin, cos, pi"
   ]
  },
  {
   "cell_type": "code",
   "execution_count": 75,
   "metadata": {},
   "outputs": [],
   "source": [
    "from hfss import get_active_design\n",
    "design = get_active_design()"
   ]
  },
  {
   "cell_type": "code",
   "execution_count": 76,
   "metadata": {},
   "outputs": [],
   "source": [
    "a = 1.68/2\n",
    "b = 8.38/2\n",
    "C = 4.8*b\n",
    "L = 5\n",
    "d = 2.5*b\n",
    "k = 10\n",
    "v = 4.2*b\n",
    "s = 0.5\n",
    "t = 0.4\n",
    "N = 60\n",
    "\n",
    "a = design.set_variable('a', str(a)+'mm')\n",
    "b = design.set_variable('b', str(b)+'mm')\n",
    "C = design.set_variable('C', str(C)+'mm')\n",
    "L = design.set_variable('L', str(L)+'mm')\n",
    "d = design.set_variable('d', str(d)+'mm')\n",
    "k = design.set_variable('k', str(k)+'mm')\n",
    "v = design.set_variable('v', str(v)+'mm')\n",
    "s = design.set_variable('s', str(s)+'mm')\n",
    "t = design.set_variable('t', str(t)+'mm')"
   ]
  },
  {
   "cell_type": "code",
   "execution_count": 77,
   "metadata": {},
   "outputs": [],
   "source": [
    "hole_location_list = [\n",
    "    [0      ,       0       ,   L/2     ],\n",
    "    [d      ,       0       ,   -L/2-t  ],\n",
    "    [0      ,       d       ,   -L/2-t  ],\n",
    "    [-d     ,       0       ,   -L/2-t  ],\n",
    "    [0      ,       -d      ,   -L/2-t  ]\n",
    "]\n",
    "lid_location_list = [\n",
    "    [0      ,       0       ,   -L/2    ],\n",
    "    [d      ,       0       ,   -L/2-t-k  ],\n",
    "    [0      ,       d       ,   -L/2-t-k  ],\n",
    "    [-d     ,       0       ,   -L/2-t-k  ],\n",
    "    [0      ,       -d      ,   -L/2-t-k  ]\n",
    "]\n",
    "shield_location_list = [\n",
    "    [0      ,       0       ,   L/2    ],\n",
    "    [d      ,       0       ,   -L/2-t-k  ],\n",
    "    [0      ,       d       ,   -L/2-t-k  ],\n",
    "    [-d     ,       0       ,   -L/2-t-k  ],\n",
    "    [0      ,       -d      ,   -L/2-t-k  ]\n",
    "]\n",
    "port_location_list = [\n",
    "    [0      ,       0       ,   L/2+k+t   ],\n",
    "    [d      ,       0       ,   -L/2-t-k  ],\n",
    "    [0      ,       d       ,   -L/2-t-k  ],\n",
    "    [-d     ,       0       ,   -L/2-t-k  ],\n",
    "    [0      ,       -d      ,   -L/2-t-k  ]\n",
    "]\n",
    "SIW1_location_list = []\n",
    "for n in range(N1):\n",
    "    x = v1*cos(2*n*pi/N1)\n",
    "    y = v1*sin(2*n*pi/N1)\n",
    "    SIW1_location_list.append([x, y, -L/2])\n",
    "SIW2_location_list = []\n",
    "for n in range(N2):\n",
    "    x = v2*cos(2*n*pi/N2)\n",
    "    y = v2*sin(2*n*pi/N2)\n",
    "    SIW2_location_list.append([x, y, -L/2])"
   ]
  },
  {
   "cell_type": "code",
   "execution_count": 78,
   "metadata": {},
   "outputs": [],
   "source": [
    "modeler = design.modeler\n",
    "obj1 = modeler.draw_cylinder([0, 0, -L/2], C, L, axis='Z')\n",
    "obj2 = modeler.draw_cylinder([0, 0, -L/2-t], C+t, L+2*t, axis='Z', name='cavity')\n",
    "Cavity = modeler.subtract([obj2, obj1])\n",
    "Cavity_internal = modeler.draw_cylinder([0, 0, -L/2], C, L, material='vacuum', axis='Z', name='material')"
   ]
  },
  {
   "cell_type": "code",
   "execution_count": 79,
   "metadata": {},
   "outputs": [],
   "source": [
    "for loc in hole_location_list:\n",
    "    obj = modeler.draw_cylinder(loc, b+t, t, axis='Z')\n",
    "    Cavity = modeler.subtract([Cavity, obj])\n",
    "modeler.make_perfect_E(Cavity)"
   ]
  },
  {
   "cell_type": "code",
   "execution_count": 80,
   "metadata": {},
   "outputs": [],
   "source": [
    "for loc in lid_location_list:\n",
    "    lead = modeler.draw_cylinder(loc, a, k+t+L, axis='Z')\n",
    "    modeler.make_perfect_E(lead)\n",
    "    Cavity = modeler.unite([Cavity, lead])\n",
    "    obj = modeler.draw_cylinder(loc, a, k+t+L, axis='Z')\n",
    "    Cavity_internal = modeler.subtract([Cavity_internal, obj])"
   ]
  },
  {
   "cell_type": "code",
   "execution_count": 81,
   "metadata": {},
   "outputs": [],
   "source": [
    "for i, loc in enumerate(shield_location_list):\n",
    "    obj1 = modeler.draw_cylinder(loc, b, k+t, axis='Z')\n",
    "    obj2 = modeler.draw_cylinder(loc, b+t, k+t, axis='Z')\n",
    "    shield = modeler.subtract([obj2, obj1])\n",
    "    modeler.make_perfect_E(shield)\n",
    "    Cavity = modeler.unite([Cavity, shield])\n",
    "    obj = modeler.draw_cylinder(loc, a, t+k, axis='Z')\n",
    "    coax_material = modeler.draw_cylinder(loc, b, k+t, material='vacuum', axis='Z')\n",
    "    coax_material = modeler.subtract([coax_material, obj])\n",
    "    Cavity_internal = modeler.unite([Cavity_internal, coax_material])"
   ]
  },
  {
   "cell_type": "code",
   "execution_count": 82,
   "metadata": {},
   "outputs": [],
   "source": [
    "for loc in SIW_location_list:\n",
    "    obj = modeler.draw_cylinder(loc, s, L, axis='Z')\n",
    "    Cavity_internal = modeler.subtract([Cavity_internal, obj])\n",
    "    obj = modeler.draw_cylinder(loc, s, L, axis='Z')\n",
    "    modeler.make_perfect_E(obj)\n",
    "    Cavity = modeler.unite([Cavity, obj])"
   ]
  },
  {
   "cell_type": "code",
   "execution_count": 13,
   "metadata": {},
   "outputs": [],
   "source": [
    "port_list = []\n",
    "for loc in port_location_list:\n",
    "    port_list.append(modeler.draw_circle(loc, b, axis='Z'))"
   ]
  }
 ],
 "metadata": {
  "kernelspec": {
   "display_name": "Python 3",
   "language": "python",
   "name": "python3"
  },
  "language_info": {
   "codemirror_mode": {
    "name": "ipython",
    "version": 3
   },
   "file_extension": ".py",
   "mimetype": "text/x-python",
   "name": "python",
   "nbconvert_exporter": "python",
   "pygments_lexer": "ipython3",
   "version": "3.10.7"
  }
 },
 "nbformat": 4,
 "nbformat_minor": 2
}
